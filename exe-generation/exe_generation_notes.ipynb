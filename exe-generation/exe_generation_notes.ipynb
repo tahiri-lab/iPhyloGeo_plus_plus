{
 "cells": [
  {
   "cell_type": "markdown",
   "id": "3086941c-6dc0-4761-80fd-fb907562d5ff",
   "metadata": {},
   "source": [
    "# Notes on generating EXE\n",
    "\n"
   ]
  },
  {
   "cell_type": "markdown",
   "id": "95395bcf-b960-40d8-8a5f-b3f773a00e6e",
   "metadata": {
    "jp-MarkdownHeadingCollapsed": true
   },
   "source": [
    "## About this notebook\n",
    "\n",
    "Generating an EXE of iPhyloGeo++ that actually worked was a complex process. The following notes document the most significant issues and discoveries it involved. Hopefully they will help the iPhyloGeo++ team address any issues they may encounter while generating EXEs for future version of the software.\n",
    "\n",
    "## Troubleshooting technique\n",
    "\n",
    "1. Run the building .bat (found in the exe-generation folder). If it encounters an error, skip step 2\n",
    "2. Run the testing .bat (found in the exe-generation folder)\n",
    "3. Take note of the error message\n",
    "4. Try and fix it\n",
    "5. Go back to step 1\n",
    "\n",
    "The .bat scripts were written to make the process faster. The build script deletes old build and dist files and ensures the pyinstaller command is spelled correctly. The test script includes `/k` in the command that runs the EXE, which ensures that the console will stay open after the EXE stops running. That way, if it stops running due to an error, the error message can be read before closing the console."
   ]
  },
  {
   "cell_type": "markdown",
   "id": "498d3fa1-0163-4718-bbc4-d8cf858741d6",
   "metadata": {},
   "source": [
    "## Useful knowledge\n",
    "\n",
    "If you find out something particularly useful about exe generation software and how it interacts with iPhyloGeo++, please add it to the appropriate list:\n",
    "\n",
    "**cx_Freeze**\n",
    "\n",
    "* When building an EXE on Windows, especially on a personal computer, cx_Freeze may seem stuck on \"running the build\" for a long time, such as 15 or even 20 minutes. This is not an indication that something went wrong.\n",
    "* When testing an EXE on Windows, the traceback is displayed in a dialog box and the text cannot be selected. However, if the dialog box is the active window, Ctrl-C will copy the whole text into the pastebin.\n",
    "\n",
    "\n",
    "**Pyinstaller**\n",
    "\n",
    "* If a Pyinstaller command includes a .py file, Pyinstaller will write over the .spec file. If you want to use a customized .spec file, include it in the command instead of the .py file. The build.bat script was written to ensure we wouldn’t accidentally overwrite main.spec during testing.\n",
    "* Most of the errors encountered were of the ModuleNotFoundError kind. Most of them were fixed by adding the name of the module to the hiddenimports list contained in main.spec.\n",
    "* Including multiple paths in the pathex, in main.spec, did not work. It caused Pyinstaller to ignore all the paths except one."
   ]
  },
  {
   "cell_type": "markdown",
   "id": "43e1808c-d00d-4344-be08-755dbc0e3255",
   "metadata": {},
   "source": [
    "## Error and fix examples\n",
    "\n",
    "Here are a few examples of errors encountered while troubleshooting the generation of an EXE, and how they were fixed.\n",
    "\n",
    "### 2025-09-18 ImportError with Numpy\n",
    "\n",
    "The following error was encountered when the EXE ran:\n",
    "\n",
    "**ImportError: Error importing numpy: you should not try to import numpy from  its source directory; please exit the numpy source tree, and relaunc   your python interpreter fromhere.**\n",
    "\n",
    "This appears to be a known issue when using Python 3.12 and Numpy >=1.27 together. Python 3.11 had to be downloaded and added to the Poetry venv.e."
   ]
  },
  {
   "cell_type": "markdown",
   "id": "576666c6-6318-4b4b-836c-654e927223b4",
   "metadata": {},
   "source": []
  },
  {
   "cell_type": "code",
   "execution_count": null,
   "id": "e4299f65-7666-487b-9c12-21daf5536dbd",
   "metadata": {},
   "outputs": [],
   "source": []
  },
  {
   "cell_type": "code",
   "execution_count": null,
   "id": "1a31c464-3f88-4920-92e9-af110dbb0665",
   "metadata": {},
   "outputs": [],
   "source": []
  }
 ],
 "metadata": {
  "kernelspec": {
   "display_name": "Python [conda env:base] *",
   "language": "python",
   "name": "conda-base-py"
  },
  "language_info": {
   "codemirror_mode": {
    "name": "ipython",
    "version": 3
   },
   "file_extension": ".py",
   "mimetype": "text/x-python",
   "name": "python",
   "nbconvert_exporter": "python",
   "pygments_lexer": "ipython3",
   "version": "3.11.7"
  }
 },
 "nbformat": 4,
 "nbformat_minor": 5
}
