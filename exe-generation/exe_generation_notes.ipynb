{
 "cells": [
  {
   "cell_type": "markdown",
   "id": "3086941c-6dc0-4761-80fd-fb907562d5ff",
   "metadata": {},
   "source": [
    "# Notes on generating EXE\n",
    "\n"
   ]
  },
  {
   "cell_type": "markdown",
   "id": "95395bcf-b960-40d8-8a5f-b3f773a00e6e",
   "metadata": {},
   "source": [
    "## About this notebook\n",
    "\n",
    "Generating an EXE of iPhyloGeo++ that actually worked was a complex process. The following notes document the most significant issues and discoveries it involved. Hopefully they will help the iPhyloGeo++ team address any issues they may encounter while generating EXEs for future version of the software.\n",
    "\n",
    "## Troubleshooting technique\n",
    "\n",
    "1. Run scripts\\build.bat. If it encounters an error, skip step 2\n",
    "2. Run test.bat\n",
    "3. Take note of the error message\n",
    "4. Try and fix it\n",
    "5. Go back to step 1\n",
    "\n",
    "The build.bat and test.bat scripts were written to make the process faster. The build script deletes old build and dist files and ensures the pyinstaller command is spelled correctly. The test script includes `/k` in the command that runs the EXE, which ensures that the console will stay open after the EXE stops running. That way, if it stops running due to an error, the error message can be read before closing the console."
   ]
  },
  {
   "cell_type": "markdown",
   "id": "498d3fa1-0163-4718-bbc4-d8cf858741d6",
   "metadata": {},
   "source": [
    "## Useful knowledge\n",
    "\n",
    "If you find out something particularly useful about Pyinstaller and how it interacts with iPhyloGeo++, please add it to this list:\n",
    "\n",
    "* If a Pyinstaller command includes a .py file, Pyinstaller will write over the .spec file. If you want to use a customized .spec file, include it in the command instead of the .py file. The build.bat script was written to ensure we wouldn’t accidentally overwrite main.spec during testing.\n",
    "* Most of the errors encountered were of the ModuleNotFoundError kind. Most of them were fixed by adding the name of the module to the hiddenimports list contained in main.spec.\n",
    "* Including multiple paths in the pathex, in main.spec, did not work. It caused Pyinstaller to ignore all the paths except one."
   ]
  },
  {
   "cell_type": "code",
   "execution_count": null,
   "id": "9d9ccf0d-71aa-4f38-b00e-4e2761676005",
   "metadata": {},
   "outputs": [],
   "source": []
  }
 ],
 "metadata": {
  "kernelspec": {
   "display_name": "Python [conda env:base] *",
   "language": "python",
   "name": "conda-base-py"
  },
  "language_info": {
   "codemirror_mode": {
    "name": "ipython",
    "version": 3
   },
   "file_extension": ".py",
   "mimetype": "text/x-python",
   "name": "python",
   "nbconvert_exporter": "python",
   "pygments_lexer": "ipython3",
   "version": "3.11.7"
  }
 },
 "nbformat": 4,
 "nbformat_minor": 5
}
