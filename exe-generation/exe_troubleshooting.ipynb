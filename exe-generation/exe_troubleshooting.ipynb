{
 "cells": [
  {
   "cell_type": "markdown",
   "id": "3e0285d6-35ca-413f-8259-2a261f8dd819",
   "metadata": {},
   "source": [
    "# EXE Troubleshooting Notes\n",
    "\n",
    "## Troubleshooting by Arcady"
   ]
  },
  {
   "cell_type": "markdown",
   "id": "fccff17f-6284-45fb-81ab-153c8e12df68",
   "metadata": {},
   "source": [
    "I am working on a Windows 11 computer and using the Powershell console.\n",
    "\n",
    "## September 18, 2025\n",
    "\n",
    "1. Generated an EXE of the project with Pyinstaller\n",
    "2. Got **ModuleNotFoundError** on this line in main.py: `import qtmodern.styles`\n",
    "3. Created a hooks directory within scripts\n",
    "4. Created hooks\\hook-qtmodern.py\n",
    "5. Added qtmodern and PyQt5 to the Poetry venv (PyQt5 was a mistake as the project actually uses PyQt6; I fixed that later)\n",
    "6. Updated main.spec to collect data files for qtmodern and PyQt5\n",
    "7. Specified \"qtmoderns\" as an hidden import in main.spec\n",
    "8. Removed and added qtmodern to the Poetry venv\n",
    "9. Asked [a question](https://stackoverflow.com/questions/79767848/exe-created-with-pyinstaller-fails-to-import-qtmodern-as-specified-in-hook) on StackOverflow to get outside input\n",
    "10. Got the virtual environment’s path and stored it in a variable called $venvpath in Powershell\n",
    "11. Generated an EXE using main.py rather than main.spec (this makes Pyinstaller overwrite the main.spec file), with command `poetry run pyinstaller main.py --onefile --paths \"$venvPath\\Lib\\site-packages\"  --hidden-import=qtmodern  --hidden-import=qtmodern.styles --hidden-import=qtmodern.windows`\n",
    "12. Got **ModuleNotFoundError** three lines further than before in main.py: `from event_connector import QtEvents, connect_decorated_methods, connect_event\n",
    "\n",
    "```\n",
    "#hook-qtmodern.py\n",
    "from PyInstaller.utils.hooks import collect_data_files\r\n",
    "\r\n",
    "datas = collect_data_files(\"qtmodern\", includes=[\"**/*.qss\"])\r\n",
    "\r\n",
    "hiddenimports = [\r\n",
    "    \"qtmodern.styles\",\r\n",
    "    \"qtmodern.windo\n",
    "```wsin-hook"
   ]
  }
 ],
 "metadata": {
  "kernelspec": {
   "display_name": "Python [conda env:base] *",
   "language": "python",
   "name": "conda-base-py"
  },
  "language_info": {
   "codemirror_mode": {
    "name": "ipython",
    "version": 3
   },
   "file_extension": ".py",
   "mimetype": "text/x-python",
   "name": "python",
   "nbconvert_exporter": "python",
   "pygments_lexer": "ipython3",
   "version": "3.11.7"
  }
 },
 "nbformat": 4,
 "nbformat_minor": 5
}
